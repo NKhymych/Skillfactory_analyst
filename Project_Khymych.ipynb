{
 "cells": [
  {
   "cell_type": "markdown",
   "id": "4626a910",
   "metadata": {},
   "source": [
    " ## Расчет процента оплат среди групп пользователей с разным уровнем сложности"
   ]
  },
  {
   "cell_type": "code",
   "execution_count": 45,
   "id": "78f0667d",
   "metadata": {},
   "outputs": [
    {
     "name": "stdout",
     "output_type": "stream",
     "text": [
      "Типы уровней: [nan 'medium' 'hard' 'easy']\n",
      "Процент оплаты среди пользователей выбравших лёгкий уровень: 7.72%\n",
      "Процент оплаты среди пользователей выбравших средний уровень: 20.86%\n",
      "Процент оплаты среди пользователей выбравших сложный уровень: 35.39%\n"
     ]
    }
   ],
   "source": [
    "import pandas as pd\n",
    "import re \n",
    "events_df_all = pd.read_csv('events.csv',',')\n",
    "purchase_df_all = pd.read_csv('purchase.csv',',')\n",
    "purchase_df_all['event_type'] = 'purchase'\n",
    "events_df_all = events_df_all.rename(columns = {\"id\": \"event_id\"})\n",
    "purchase_df_all = purchase_df_all.rename(columns = {\"id\": \"purchase_id\"})\n",
    "\n",
    "# Creating df with events after 01 Jan 2018 and before 01 Jan 2019\n",
    "\n",
    "cond = (events_df_all.start_time>='2018-01-01')&(events_df_all.start_time<'2019-01-01')&(events_df_all.event_type=='registration')\n",
    "registered = events_df_all[cond]['user_id'].to_list()\n",
    "events_df = events_df_all[events_df_all.user_id.isin(registered)]\n",
    "purchase_df = purchase_df_all[purchase_df_all.user_id.isin(registered)]\n",
    "\n",
    "# Check of levels to create groups\n",
    "print(\"Типы уровней: {}\".format(events_df['selected_level'].unique()))\n",
    "\n",
    "# Creating sets of users based on selected level\n",
    "\n",
    "users_easy_level = events_df[events_df[\"selected_level\"]==\"easy\"][\"user_id\"].unique()\n",
    "users_medium_level = events_df[events_df[\"selected_level\"]==\"medium\"][\"user_id\"].unique()\n",
    "users_hard_level = events_df[events_df[\"selected_level\"]==\"hard\"][\"user_id\"].unique()\n",
    "\n",
    "set_users_easy_level = set(users_easy_level)\n",
    "set_users_medium_level = set(users_medium_level)\n",
    "set_users_hard_level = set(users_hard_level)\n",
    "\n",
    "# Calculating percentage of purchases for level Easy \n",
    "\n",
    "purchase_df_easy_level = purchase_df[purchase_df[\"user_id\"].isin(set_users_easy_level)]\n",
    "events_df_easy_level = events_df[events_df[\"user_id\"].isin(set_users_easy_level)]\n",
    "users_purchase_easy = purchase_df_easy_level[\"user_id\"].nunique()\n",
    "users_total_easy = events_df_easy_level[\"user_id\"].nunique()\n",
    "percent_payment_easy = users_purchase_easy / users_total_easy \n",
    "print(\n",
    "    \"Процент оплаты среди пользователей выбравших лёгкий уровень: {:.2%}\".format(\n",
    "        percent_payment_easy)\n",
    ")\n",
    "\n",
    "# Calculating percentage of purchases for level Medium \n",
    "\n",
    "purchase_df_medium_level = purchase_df[purchase_df[\"user_id\"].isin(set_users_medium_level)]\n",
    "events_df_medium_level = events_df[events_df[\"user_id\"].isin(set_users_medium_level)]\n",
    "users_purchase_medium = purchase_df_medium_level[\"user_id\"].nunique()\n",
    "users_total_medium = events_df_medium_level[\"user_id\"].nunique()\n",
    "percent_payment_medium = users_purchase_medium / users_total_medium \n",
    "print(\n",
    "    \"Процент оплаты среди пользователей выбравших средний уровень: {:.2%}\".format(\n",
    "        percent_payment_medium)\n",
    ")\n",
    "\n",
    "# Calculating percentage of purchases for level Hard \n",
    "\n",
    "purchase_df_hard_level = purchase_df[purchase_df[\"user_id\"].isin(set_users_hard_level)]\n",
    "events_df_hard_level = events_df[events_df[\"user_id\"].isin(set_users_hard_level)]\n",
    "users_purchase_hard = purchase_df_hard_level[\"user_id\"].nunique()\n",
    "users_total_hard = events_df_hard_level[\"user_id\"].nunique()\n",
    "percent_payment_hard = users_purchase_hard / users_total_hard \n",
    "print(\n",
    "    \"Процент оплаты среди пользователей выбравших сложный уровень: {:.2%}\".format(\n",
    "        percent_payment_hard)\n",
    ")\n",
    "\n"
   ]
  },
  {
   "cell_type": "markdown",
   "id": "f3efb1cc",
   "metadata": {},
   "source": [
    "### Вопрос: Eсть ли зависимость между выбранным уровнем сложности и вероятностью оплаты? \n",
    "### Ответ: Да, есть прямая зависимость между уровнем сложности и вероятностью оплаты: чем выше уровень сложности, тем выше вероятность оплаты"
   ]
  },
  {
   "cell_type": "markdown",
   "id": "eff44d40",
   "metadata": {},
   "source": [
    "## Расчет среднего времени между выбором уровня сложности и покупкой"
   ]
  },
  {
   "cell_type": "code",
   "execution_count": 68,
   "id": "e80e8c21",
   "metadata": {},
   "outputs": [
    {
     "name": "stdout",
     "output_type": "stream",
     "text": [
      "Промежуток времени между выбором уровня и покупкой для лёгкого уровня составляет: 3 days 14:58:52.941798941\n",
      "Промежуток времени между выбором уровня и покупкой для среднего уровня составляет: 3 days 23:14:13.165118679\n",
      "Промежуток времени между выбором уровня и покупкой для тяжёлого уровня составляет: 3 days 07:20:41.420814479\n"
     ]
    }
   ],
   "source": [
    "# Creating merged Df for EASY level and changing date format\n",
    "\n",
    "total_easy_df = pd.concat([purchase_df_easy_level,events_df_easy_level],sort=False)\n",
    "total_easy_df[\"event_datetime\"] = pd.to_datetime(total_easy_df[\"event_datetime\"])\n",
    "total_easy_df[\"start_time\"] = pd.to_datetime(total_easy_df[\"start_time\"])\n",
    "\n",
    "# Creating merged Df for MEDIUM level and changing date format\n",
    "\n",
    "total_medium_df = pd.concat([purchase_df_medium_level,events_df_medium_level],sort=False)\n",
    "total_medium_df[\"event_datetime\"] = pd.to_datetime(total_medium_df[\"event_datetime\"])\n",
    "total_medium_df[\"start_time\"] = pd.to_datetime(total_medium_df[\"start_time\"])\n",
    "\n",
    "# Creating merged Df for HARD level and changing date format\n",
    "\n",
    "total_hard_df = pd.concat([purchase_df_hard_level,events_df_hard_level],sort=False)\n",
    "total_hard_df[\"event_datetime\"] = pd.to_datetime(total_hard_df[\"event_datetime\"])\n",
    "total_hard_df[\"start_time\"] = pd.to_datetime(total_hard_df[\"start_time\"])\n",
    "\n",
    "# Calculating average time between level choice and purchase for EASY level\n",
    "\n",
    "purchase_easy_df = total_easy_df[total_easy_df['event_type'] == \"purchase\"]\n",
    "purchase_easy_df = purchase_easy_df[[\"user_id\", \"event_datetime\"]].rename(\n",
    "    columns={\"event_datetime\": \"purchase_time\"})\n",
    "level_choice_easy_df = total_easy_df[total_easy_df['event_type'] == \"level_choice\"]\n",
    "level_choice_easy_df = level_choice_easy_df[[\"user_id\",\"start_time\"]].rename(columns={\"start_time\":\"level_choice_time\"})\n",
    "purchase_level_easy = purchase_easy_df.merge(level_choice_easy_df, on=\"user_id\", how=\"inner\")\n",
    "\n",
    "purchase_level_easy[\"timedelta\"] = purchase_level_easy[\"purchase_time\"] - purchase_level_easy[\"level_choice_time\"]\n",
    "print(\"В среднем, промежуток времени между выбором уровня и покупкой для лёгкого уровня составляет: {}\".format(purchase_level_easy[\"timedelta\"].mean()))\n",
    "\n",
    "# Calculating average time between level choice and purchase for MEDIUM level\n",
    "\n",
    "purchase_medium_df = total_medium_df[total_medium_df['event_type'] == \"purchase\"]\n",
    "purchase_medium_df = purchase_medium_df[[\"user_id\", \"event_datetime\"]].rename(\n",
    "    columns={\"event_datetime\": \"purchase_time\"})\n",
    "level_choice_medium_df = total_medium_df[total_medium_df['event_type'] == \"level_choice\"]\n",
    "level_choice_medium_df = level_choice_medium_df[[\"user_id\",\"start_time\"]].rename(columns={\"start_time\":\"level_choice_time\"})\n",
    "purchase_level_medium = purchase_medium_df.merge(level_choice_medium_df, on=\"user_id\", how=\"inner\")\n",
    "\n",
    "purchase_level_medium[\"timedelta\"] = purchase_level_medium[\"purchase_time\"] - purchase_level_medium[\"level_choice_time\"]\n",
    "print(\"В среднем, промежуток времени между выбором уровня и покупкой для среднего уровня составляет: {}\".format(purchase_level_medium[\"timedelta\"].mean()))\n",
    "\n",
    "# Calculating average time between level choice and purchase for HARD level\n",
    "\n",
    "purchase_hard_df = total_hard_df[total_hard_df['event_type'] == \"purchase\"]\n",
    "purchase_hard_df = purchase_hard_df[[\"user_id\", \"event_datetime\"]].rename(\n",
    "    columns={\"event_datetime\": \"purchase_time\"})\n",
    "level_choice_hard_df = total_hard_df[total_hard_df['event_type'] == \"level_choice\"]\n",
    "level_choice_hard_df = level_choice_hard_df[[\"user_id\",\"start_time\"]].rename(columns={\"start_time\":\"level_choice_time\"})\n",
    "purchase_level_hard = purchase_hard_df.merge(level_choice_hard_df, on=\"user_id\", how=\"inner\")\n",
    "\n",
    "purchase_level_hard[\"timedelta\"] = purchase_level_hard[\"purchase_time\"] - purchase_level_hard[\"level_choice_time\"]\n",
    "print(\"В среднем, промежуток времени между выбором уровня и покупкой для тяжёлого уровня составляет: {}\".format(purchase_level_hard[\"timedelta\"].mean()))\n",
    "\n"
   ]
  },
  {
   "cell_type": "markdown",
   "id": "ed457fe5",
   "metadata": {},
   "source": [
    "### Проходит, как минимум, три дня между этапом выбора уровня сложности и оплатой. Разница во времени между уровнями сложности не значительная и остается в рамках одного дня."
   ]
  },
  {
   "cell_type": "markdown",
   "id": "c1dca24b",
   "metadata": {},
   "source": [
    "## Рассчет временного промежутка между регистрацией и оплатой для групп пользователей с разным уровнем сложности.\n"
   ]
  },
  {
   "cell_type": "code",
   "execution_count": 76,
   "id": "522bad18",
   "metadata": {},
   "outputs": [
    {
     "name": "stdout",
     "output_type": "stream",
     "text": [
      "В среднем, промежуток времени между регистрацией и покупкой для легкого уровня составляет: 3 days 22:10:23.211640211\n",
      "В среднем, промежуток времени между регистрацией и покупкой для среднего уровня составляет: 4 days 06:12:06.576883384\n",
      "В среднем, промежуток времени между регистрацией и покупкой для тяжелого уровня составляет: 3 days 14:55:19.257918552\n"
     ]
    }
   ],
   "source": [
    "# Calculating average time between registration and purchase for EASY level\n",
    "\n",
    "registration_easy_df = total_easy_df[total_easy_df['event_type'] == \"registration\"]\n",
    "registration_easy_df = registration_easy_df[[\"user_id\",\"start_time\"]].rename(columns={\"start_time\":\"registration_time\"})\n",
    "registration_to_purchase_easy = purchase_easy_df.merge(registration_easy_df, on=\"user_id\", how=\"inner\")\n",
    "\n",
    "registration_to_purchase_easy[\"timedelta\"] = registration_to_purchase_easy[\"purchase_time\"] - registration_to_purchase_easy[\"registration_time\"]\n",
    "print(\"В среднем, промежуток времени между регистрацией и покупкой для легкого уровня составляет: {}\".format(registration_to_purchase_easy[\"timedelta\"].mean()))\n",
    "\n",
    "# Calculating average time between registration and purchase for MEDIUM level\n",
    "\n",
    "registration_medium_df = total_medium_df[total_medium_df['event_type'] == \"registration\"]\n",
    "registration_medium_df = registration_medium_df[[\"user_id\",\"start_time\"]].rename(columns={\"start_time\":\"registration_time\"})\n",
    "registration_to_purchase_medium = purchase_medium_df.merge(registration_medium_df, on=\"user_id\", how=\"inner\")\n",
    "\n",
    "registration_to_purchase_medium[\"timedelta\"] = registration_to_purchase_medium[\"purchase_time\"] - registration_to_purchase_medium[\"registration_time\"]\n",
    "print(\"В среднем, промежуток времени между регистрацией и покупкой для среднего уровня составляет: {}\".format(registration_to_purchase_medium[\"timedelta\"].mean()))\n",
    "\n",
    "# Calculating average time between registration and purchase for HARD level\n",
    "\n",
    "registration_hard_df = total_hard_df[total_hard_df['event_type'] == \"registration\"]\n",
    "registration_hard_df = registration_hard_df[[\"user_id\",\"start_time\"]].rename(columns={\"start_time\":\"registration_time\"})\n",
    "registration_to_purchase_hard = purchase_hard_df.merge(registration_hard_df, on=\"user_id\", how=\"inner\")\n",
    "\n",
    "registration_to_purchase_hard[\"timedelta\"] = registration_to_purchase_hard[\"purchase_time\"] - registration_to_purchase_hard[\"registration_time\"]\n",
    "print(\"В среднем, промежуток времени между регистрацией и покупкой для тяжелого уровня составляет: {}\".format(registration_to_purchase_hard[\"timedelta\"].mean()))\n",
    "\n"
   ]
  },
  {
   "cell_type": "markdown",
   "id": "2bc9181b",
   "metadata": {},
   "source": [
    "### Временный промежутки между регистрацией и покупкой для разный групп сложности отличаются. Больше всего времени между регистраций и покупкой проходит для среднего уровня  - 4 дня и 6 часов, для легкого уровня - 3 дня и 22 часа и для тяжелого уровня проходит меньше всего времени - 3 дня и 14 часов."
   ]
  }
 ],
 "metadata": {
  "kernelspec": {
   "display_name": "Python 3",
   "language": "python",
   "name": "python3"
  },
  "language_info": {
   "codemirror_mode": {
    "name": "ipython",
    "version": 3
   },
   "file_extension": ".py",
   "mimetype": "text/x-python",
   "name": "python",
   "nbconvert_exporter": "python",
   "pygments_lexer": "ipython3",
   "version": "3.8.8"
  }
 },
 "nbformat": 4,
 "nbformat_minor": 5
}
